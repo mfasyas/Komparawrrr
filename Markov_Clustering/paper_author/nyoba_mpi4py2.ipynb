{
 "cells": [
  {
   "cell_type": "code",
   "execution_count": 2,
   "id": "6ff5ffd7",
   "metadata": {},
   "outputs": [
    {
     "name": "stdout",
     "output_type": "stream",
     "text": [
      "Sequential execution time: 0.028005 seconds\n",
      "Parallel execution time using 1 processes: 0.033003 seconds\n"
     ]
    }
   ],
   "source": [
    "from mpi4py import MPI\n",
    "import numpy as np\n",
    "import time\n",
    "\n",
    "N = 1000  # Ukuran matriks\n",
    "\n",
    "# Inisialisasi MPI\n",
    "comm = MPI.COMM_WORLD\n",
    "rank = comm.Get_rank()\n",
    "numproc = comm.Get_size()\n",
    "\n",
    "# Inisialisasi matriks\n",
    "if rank == 0:\n",
    "    np.random.seed(int(time.time()))\n",
    "    A = np.random.randint(0, 10, (N, N)).astype(np.float64)\n",
    "    B = np.random.randint(0, 10, (N, N)).astype(np.float64)\n",
    "    C_seq = np.zeros((N, N), dtype=np.float64)\n",
    "    C_par = np.zeros((N, N), dtype=np.float64)\n",
    "else:\n",
    "    A = np.empty((N, N), dtype=np.float64)\n",
    "    B = np.empty((N, N), dtype=np.float64)\n",
    "    C_par = np.zeros((N, N), dtype=np.float64)\n",
    "\n",
    "# Broadcast matriks A dan B ke semua proses\n",
    "comm.Bcast(A, root=0)\n",
    "comm.Bcast(B, root=0)\n",
    "\n",
    "# Fungsi perkalian matriks secara sequential\n",
    "def sequential_multiply(A, B):\n",
    "    return np.dot(A, B)\n",
    "\n",
    "# Fungsi perkalian matriks secara parallel\n",
    "def parallel_multiply(A, B, rank, numproc):\n",
    "    rows_per_process = N // numproc\n",
    "    start = rank * rows_per_process\n",
    "    end = N if rank == numproc - 1 else start + rows_per_process\n",
    "\n",
    "    C_partial = np.dot(A[start:end, :], B)\n",
    "    return C_partial\n",
    "\n",
    "# Rank 0 menjalankan sequential\n",
    "if rank == 0:\n",
    "    start_time = time.time()\n",
    "    C_seq = sequential_multiply(A, B)\n",
    "    seq_time = time.time() - start_time\n",
    "    print(f\"Sequential execution time: {seq_time:.6f} seconds\")\n",
    "\n",
    "# Parallel Execution\n",
    "start_time = time.time()\n",
    "C_partial = parallel_multiply(A, B, rank, numproc)\n",
    "\n",
    "# Mengumpulkan hasil dari semua proses\n",
    "C_par = np.empty((N, N), dtype=np.float64) if rank == 0 else None\n",
    "comm.Gather(C_partial, C_par, root=0)\n",
    "\n",
    "# Rank 0 mencetak waktu eksekusi parallel\n",
    "if rank == 0:\n",
    "    par_time = time.time() - start_time\n",
    "    print(f\"Parallel execution time using {numproc} processes: {par_time:.6f} seconds\")"
   ]
  }
 ],
 "metadata": {
  "kernelspec": {
   "display_name": "Python 3",
   "language": "python",
   "name": "python3"
  },
  "language_info": {
   "codemirror_mode": {
    "name": "ipython",
    "version": 3
   },
   "file_extension": ".py",
   "mimetype": "text/x-python",
   "name": "python",
   "nbconvert_exporter": "python",
   "pygments_lexer": "ipython3",
   "version": "3.12.7"
  }
 },
 "nbformat": 4,
 "nbformat_minor": 5
}
