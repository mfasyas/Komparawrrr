{
 "cells": [
  {
   "cell_type": "code",
   "execution_count": null,
   "id": "951f2c17",
   "metadata": {},
   "outputs": [],
   "source": [
    "import numpy as np\n",
    "from numba import njit, prange\n",
    "import time\n",
    "\n",
    "@njit(parallel=True)\n",
    "def matmul_parallel(A, B):\n",
    "    N = A.shape[0]\n",
    "    C = np.zeros((N, N), dtype=A.dtype)\n",
    "    for i in prange(N):\n",
    "        for j in range(N):\n",
    "            for k in range(N):\n",
    "                C[i, j] += A[i, k] * B[k, j]\n",
    "    return C\n",
    "\n",
    "# Contoh penggunaan\n",
    "if __name__ == \"__main__\":\n",
    "    N = 1024\n",
    "    A = np.random.rand(N, N).astype(np.float32)\n",
    "    B = np.random.rand(N, N).astype(np.float32)\n",
    "\n",
    "    C = matmul_parallel(A, B)\n"
   ]
  },
  {
   "cell_type": "code",
   "execution_count": null,
   "id": "6fd87a23",
   "metadata": {},
   "outputs": [],
   "source": []
  }
 ],
 "metadata": {
  "kernelspec": {
   "display_name": "Python 3",
   "language": "python",
   "name": "python3"
  },
  "language_info": {
   "codemirror_mode": {
    "name": "ipython",
    "version": 3
   },
   "file_extension": ".py",
   "mimetype": "text/x-python",
   "name": "python",
   "nbconvert_exporter": "python",
   "pygments_lexer": "ipython3",
   "version": "3.12.7"
  }
 },
 "nbformat": 4,
 "nbformat_minor": 5
}
