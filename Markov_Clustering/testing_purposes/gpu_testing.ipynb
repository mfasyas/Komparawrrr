{
 "cells": [
  {
   "cell_type": "code",
   "execution_count": 1,
   "id": "c40d244f",
   "metadata": {},
   "outputs": [],
   "source": [
    "from numba import cuda\n",
    "import cupy as cp"
   ]
  },
  {
   "cell_type": "code",
   "execution_count": 2,
   "id": "732e5f9a",
   "metadata": {},
   "outputs": [],
   "source": [
    "import numpy as np"
   ]
  },
  {
   "cell_type": "code",
   "execution_count": 3,
   "id": "1853e7c0",
   "metadata": {},
   "outputs": [],
   "source": [
    "@cuda.jit\n",
    "def matmul(A, B, C):\n",
    "    \"\"\"Perform square matrix multiplication of C = A * B\n",
    "    \"\"\"\n",
    "    i, j = cuda.grid(2)  \n",
    "    if i < C.shape[0] and j < C.shape[1]:   # grid can extend beyond C\n",
    "        tmp = 0.                            \n",
    "        for k in range(A.shape[1]):\n",
    "            tmp += A[i, k] * B[k, j]        # multiply elements in row i of A and column j of B and add to temp\n",
    "        C[i, j] = tmp"
   ]
  },
  {
   "cell_type": "code",
   "execution_count": 4,
   "id": "30e4129b",
   "metadata": {},
   "outputs": [
    {
     "name": "stdout",
     "output_type": "stream",
     "text": [
      "Found 1 CUDA devices\n",
      "id 0    b'NVIDIA GeForce GTX 1050 Ti'                              [SUPPORTED]\n",
      "                      Compute Capability: 6.1\n",
      "                           PCI Device ID: 0\n",
      "                              PCI Bus ID: 1\n",
      "                                    UUID: GPU-339f9d27-2e80-2bd6-56f6-04cdd9957792\n",
      "                                Watchdog: Enabled\n",
      "                            Compute Mode: WDDM\n",
      "             FP32/FP64 Performance Ratio: 32\n",
      "Summary:\n",
      "\t1/1 devices are supported\n",
      "True\n"
     ]
    }
   ],
   "source": [
    "print(cuda.detect())"
   ]
  },
  {
   "cell_type": "code",
   "execution_count": 5,
   "id": "22d93d78",
   "metadata": {},
   "outputs": [],
   "source": [
    "array_cpu = np.random.randint(0, 10, size = (2000, 2000))"
   ]
  },
  {
   "cell_type": "code",
   "execution_count": 6,
   "id": "33ca59be",
   "metadata": {},
   "outputs": [],
   "source": [
    "d_array = cuda.to_device(array_cpu)"
   ]
  },
  {
   "cell_type": "code",
   "execution_count": 7,
   "id": "2578bb2b",
   "metadata": {},
   "outputs": [
    {
     "data": {
      "text/plain": [
       "<numba.cuda.cudadrv.devicearray.DeviceNDArray at 0x14755a0eed0>"
      ]
     },
     "execution_count": 7,
     "metadata": {},
     "output_type": "execute_result"
    }
   ],
   "source": [
    "d_array # array on gpu"
   ]
  },
  {
   "cell_type": "code",
   "execution_count": 8,
   "id": "1d83c2ab",
   "metadata": {},
   "outputs": [],
   "source": [
    "another = cp.asarray(d_array)"
   ]
  },
  {
   "cell_type": "code",
   "execution_count": 9,
   "id": "0968efba",
   "metadata": {},
   "outputs": [
    {
     "data": {
      "text/plain": [
       "array([[4, 3, 1, ..., 7, 0, 3],\n",
       "       [8, 5, 3, ..., 0, 5, 0],\n",
       "       [1, 5, 6, ..., 3, 1, 6],\n",
       "       ...,\n",
       "       [3, 5, 7, ..., 7, 8, 1],\n",
       "       [2, 2, 4, ..., 5, 8, 6],\n",
       "       [0, 4, 7, ..., 7, 1, 0]])"
      ]
     },
     "execution_count": 9,
     "metadata": {},
     "output_type": "execute_result"
    }
   ],
   "source": [
    "another # wrap around numpy array in gpu with cupy"
   ]
  },
  {
   "cell_type": "code",
   "execution_count": 10,
   "id": "bc00dd2a",
   "metadata": {},
   "outputs": [],
   "source": [
    "cp.random.seed(42)\n",
    "A = cp.random.uniform(1, 10, size=(2001, 2001), dtype=np.float64)  # array 1\n",
    "B = cp.random.uniform(1, 10, size=(2001, 2001), dtype=np.float64)  # array 2\n",
    "C = cp.zeros((2001, 2001), dtype=np.float64)       # array where we store answer "
   ]
  },
  {
   "cell_type": "code",
   "execution_count": 11,
   "id": "ebd7da08",
   "metadata": {},
   "outputs": [
    {
     "name": "stdout",
     "output_type": "stream",
     "text": [
      "(126, 126)\n",
      "The kernel will be executed up to element 2016\n"
     ]
    }
   ],
   "source": [
    "threadsperblock = (16, 16)  # each block will contain 16x16 threads, typically 128 - 512 threads/block\n",
    "blockspergrid_x = int(np.ceil(C.shape[0] / threadsperblock[0]))\n",
    "blockspergrid_y = int(np.ceil(C.shape[1] / threadsperblock[1]))\n",
    "blockspergrid = (blockspergrid_x, blockspergrid_y)  # we calculate the gridsize (number of blocks) from array\n",
    "print(blockspergrid)\n",
    "print(f\"The kernel will be executed up to element {threadsperblock[0]*blockspergrid_x}\")"
   ]
  },
  {
   "cell_type": "code",
   "execution_count": 12,
   "id": "a19a2633",
   "metadata": {},
   "outputs": [],
   "source": [
    "# execution of the kernel\n",
    "import time\n",
    "matmul[blockspergrid, threadsperblock](A, B, C)"
   ]
  },
  {
   "cell_type": "code",
   "execution_count": 13,
   "id": "49fb0539",
   "metadata": {},
   "outputs": [
    {
     "data": {
      "text/plain": [
       "array([[58625.02928708, 59143.63369398, 59095.4393774 , ...,\n",
       "        58748.58966473, 59508.98777125, 60390.12590796],\n",
       "       [59254.89751363, 60014.73151918, 59902.1798702 , ...,\n",
       "        59219.47931994, 60405.08361905, 60661.79188881],\n",
       "       [61427.53549638, 62078.04759424, 61537.45049997, ...,\n",
       "        61259.85846596, 61901.11632625, 62373.99706587],\n",
       "       ...,\n",
       "       [60345.62552455, 61321.68749272, 61307.30625432, ...,\n",
       "        60401.77517458, 61438.73915912, 62055.67262768],\n",
       "       [60160.285775  , 60013.25117571, 60666.77857374, ...,\n",
       "        59702.69675176, 60331.94483091, 61008.69645485],\n",
       "       [60174.50688736, 60613.04591342, 60952.74040959, ...,\n",
       "        59596.74842436, 60851.01807623, 60774.01029692]])"
      ]
     },
     "execution_count": 13,
     "metadata": {},
     "output_type": "execute_result"
    }
   ],
   "source": [
    "C"
   ]
  },
  {
   "cell_type": "code",
   "execution_count": 14,
   "id": "ff070ac6",
   "metadata": {},
   "outputs": [],
   "source": [
    "@cuda.jit\n",
    "def matmul(A, B, C):\n",
    "    \"\"\"Perform square matrix multiplication of C = A * B\n",
    "    \"\"\"\n",
    "    i, j = cuda.grid(2)  \n",
    "    if i < C.shape[0] and j < C.shape[1]:   # grid can extend beyond C\n",
    "        tmp = 0.                            \n",
    "        for k in range(A.shape[1]):\n",
    "            tmp += A[i, k] * B[k, j]        # multiply elements in row i of A and column j of B and add to temp\n",
    "        C[i, j] = tmp\n",
    "\n",
    "def powerMatrix(matrix, n, bpg = blockspergrid, tpb = threadsperblock):\n",
    "    if n < 1:\n",
    "        raise ValueError\n",
    "        return None\n",
    "\n",
    "    matrix1, matrix2 = matrix, matrix\n",
    "    matrix3 = cp.zeros((len(matrix[0]), len(matrix[1])), dtype=np.float64)  \n",
    "\n",
    "    for i in range(n-1):\n",
    "        matmul[bpg, tpb](matrix1, matrix2, matrix3) # Sequential Part\n",
    "        matrix1 = matrix3\n",
    "\n",
    "    return matrix1"
   ]
  },
  {
   "cell_type": "code",
   "execution_count": 15,
   "id": "4750fe22",
   "metadata": {},
   "outputs": [],
   "source": [
    "start = time.time()\n",
    "powerMatrix(A, n = 10, bpg = blockspergrid, tpb = threadsperblock)\n",
    "end = time.time()"
   ]
  },
  {
   "cell_type": "code",
   "execution_count": 16,
   "id": "3f582395",
   "metadata": {},
   "outputs": [
    {
     "name": "stdout",
     "output_type": "stream",
     "text": [
      "4.6740 detik\n"
     ]
    }
   ],
   "source": [
    "print(f\"{end - start:.4f} detik\")"
   ]
  },
  {
   "cell_type": "code",
   "execution_count": null,
   "id": "82b90ceb",
   "metadata": {},
   "outputs": [],
   "source": []
  }
 ],
 "metadata": {
  "kernelspec": {
   "display_name": "Python 3",
   "language": "python",
   "name": "python3"
  },
  "language_info": {
   "codemirror_mode": {
    "name": "ipython",
    "version": 3
   },
   "file_extension": ".py",
   "mimetype": "text/x-python",
   "name": "python",
   "nbconvert_exporter": "python",
   "pygments_lexer": "ipython3",
   "version": "3.12.7"
  }
 },
 "nbformat": 4,
 "nbformat_minor": 5
}
