{
 "cells": [
  {
   "cell_type": "code",
   "execution_count": 1,
   "id": "f232073e",
   "metadata": {},
   "outputs": [],
   "source": [
    "import numpy as np\n",
    "import cupy as cp"
   ]
  },
  {
   "cell_type": "code",
   "execution_count": 2,
   "id": "2f5f5250",
   "metadata": {},
   "outputs": [
    {
     "data": {
      "text/plain": [
       "numpy.ndarray"
      ]
     },
     "execution_count": 2,
     "metadata": {},
     "output_type": "execute_result"
    }
   ],
   "source": [
    "x_host = np.array([1, 2, 3])\n",
    "type(x_host)"
   ]
  },
  {
   "cell_type": "code",
   "execution_count": 3,
   "id": "7b2962ac",
   "metadata": {},
   "outputs": [
    {
     "data": {
      "text/plain": [
       "cupy.ndarray"
      ]
     },
     "execution_count": 3,
     "metadata": {},
     "output_type": "execute_result"
    }
   ],
   "source": [
    "x_device = cp.array([1, 2, 3])\n",
    "type(x_device)"
   ]
  },
  {
   "cell_type": "code",
   "execution_count": 4,
   "id": "ca8a72c2",
   "metadata": {},
   "outputs": [
    {
     "name": "stdout",
     "output_type": "stream",
     "text": [
      "2.6 μs ± 97.6 ns per loop (mean ± std. dev. of 7 runs, 100,000 loops each)\n"
     ]
    }
   ],
   "source": [
    "%%timeit\n",
    "np.linalg.norm(x_host)"
   ]
  },
  {
   "cell_type": "code",
   "execution_count": 5,
   "id": "4e11d13a",
   "metadata": {},
   "outputs": [
    {
     "name": "stdout",
     "output_type": "stream",
     "text": [
      "37.4 μs ± 23.2 μs per loop (mean ± std. dev. of 7 runs, 1 loop each)\n"
     ]
    }
   ],
   "source": [
    "%%timeit\n",
    "cp.linalg.norm(x_host)"
   ]
  },
  {
   "cell_type": "code",
   "execution_count": null,
   "id": "be0d54b4",
   "metadata": {},
   "outputs": [],
   "source": [
    "%%timeit\n",
    "array1 = np.random.randint(low=0, high=100, size=(2000, 2000))\n",
    "array2 = np.random.randint(low=0, high=100, size=(2000, 2000))\n",
    "\n",
    "np.matmul(array1, array2)"
   ]
  },
  {
   "cell_type": "code",
   "execution_count": null,
   "id": "1e14e8a8",
   "metadata": {},
   "outputs": [
    {
     "name": "stdout",
     "output_type": "stream",
     "text": [
      "The slowest run took 9.67 times longer than the fastest. This could mean that an intermediate result is being cached.\n",
      "22.1 ms ± 21.1 ms per loop (mean ± std. dev. of 7 runs, 1 loop each)\n"
     ]
    }
   ],
   "source": [
    "%%timeit\n",
    "arrayc1 = cp.random.randint(low = 0, high = 100, size = (2000, 2000))\n",
    "arrayc2 = cp.random.randint(low = 0, high = 100, size = (2000, 2000))\n",
    "\n",
    "cp.matmul(arrayc1, arrayc2)"
   ]
  }
 ],
 "metadata": {
  "kernelspec": {
   "display_name": "Python 3",
   "language": "python",
   "name": "python3"
  },
  "language_info": {
   "codemirror_mode": {
    "name": "ipython",
    "version": 3
   },
   "file_extension": ".py",
   "mimetype": "text/x-python",
   "name": "python",
   "nbconvert_exporter": "python",
   "pygments_lexer": "ipython3",
   "version": "3.12.7"
  }
 },
 "nbformat": 4,
 "nbformat_minor": 5
}
